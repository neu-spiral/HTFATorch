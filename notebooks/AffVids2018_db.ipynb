version https://git-lfs.github.com/spec/v1
oid sha256:54a5a2a71a1a474b189e863554ebcf25995fe69e481ebe4b60732b92554d7385
size 182945
