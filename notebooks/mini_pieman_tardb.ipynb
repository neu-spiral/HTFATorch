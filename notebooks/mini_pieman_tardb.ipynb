{
 "cells": [
  {
   "cell_type": "code",
   "execution_count": 1,
   "metadata": {},
   "outputs": [
    {
     "name": "stdout",
     "output_type": "stream",
     "text": [
      "/home/eli/AnacondaProjects/HTFATorch\n"
     ]
    }
   ],
   "source": [
    "%cd ../\n",
    "%matplotlib inline"
   ]
  },
  {
   "cell_type": "code",
   "execution_count": 2,
   "metadata": {},
   "outputs": [],
   "source": [
    "import htfa_torch.niidb as niidb\n",
    "import htfa_torch.utils as utils\n",
    "import logging\n",
    "import os\n",
    "import torch\n",
    "import webdataset as wds"
   ]
  },
  {
   "cell_type": "code",
   "execution_count": 3,
   "metadata": {},
   "outputs": [],
   "source": [
    "logging.basicConfig(format='%(asctime)s %(message)s', datefmt='%m/%d/%Y %H:%M:%S',\n",
    "                    level=logging.INFO)"
   ]
  },
  {
   "cell_type": "code",
   "execution_count": 4,
   "metadata": {},
   "outputs": [],
   "source": [
    "def sentinel(f):\n",
    "    return f if f is not None else 0.0"
   ]
  },
  {
   "cell_type": "code",
   "execution_count": 5,
   "metadata": {},
   "outputs": [
    {
     "name": "stderr",
     "output_type": "stream",
     "text": [
      "06/08/2021 18:11:31 Loading Nifti image data/pieman_data/sub-001-task-intact1.nii with mask data/pieman_data/wholebrain.nii.gz (zscore=False, smooth=None, zscore_by_rest=False)\n",
      "06/08/2021 18:11:33 Block 0 intact1 of run 0 started at 0.000000, ended at 300.000000\n",
      "06/08/2021 18:11:33 Loading Nifti image data/pieman_data/sub-002-task-intact1.nii with mask data/pieman_data/wholebrain.nii.gz (zscore=False, smooth=None, zscore_by_rest=False)\n",
      "06/08/2021 18:11:35 Block 1 intact1 of run 0 started at 0.000000, ended at 300.000000\n",
      "06/08/2021 18:11:35 Loading Nifti image data/pieman_data/sub-003-task-intact1.nii with mask data/pieman_data/wholebrain.nii.gz (zscore=False, smooth=None, zscore_by_rest=False)\n",
      "06/08/2021 18:11:37 Block 2 intact1 of run 0 started at 0.000000, ended at 300.000000\n",
      "06/08/2021 18:11:37 Recorded voxel locations\n"
     ]
    }
   ],
   "source": [
    "tar_file = 'data/mini_pieman.tar'\n",
    "mask_file = 'data/pieman_data/wholebrain.nii.gz'\n",
    "\n",
    "existed = os.path.isfile(tar_file)\n",
    "sink = wds.TarWriter(tar_file)\n",
    "\n",
    "OVERWRITE = True\n",
    "\n",
    "if not existed or OVERWRITE:\n",
    "    data_files = utils.sorted_glob('data/pieman_data/*.nii')\n",
    "    for i, data_file in enumerate(data_files):\n",
    "        segments = os.path.splitext(os.path.basename(data_file))[0].split('-')\n",
    "        subject = int(segments[1])\n",
    "        task = segments[3]\n",
    "        block = niidb.FMriActivationBlock(zscore=False)\n",
    "        block.block = i\n",
    "        block.filename = data_file\n",
    "        block.mask = mask_file\n",
    "        block.subject = subject\n",
    "        block.task = task\n",
    "        block.load()\n",
    "        \n",
    "        for vals in block.format_wds():\n",
    "            sink.write(vals)\n",
    "        \n",
    "        logging.info('Block %d %s of run %d started at %f, ended at %f', i,\n",
    "                     block.task, block.run, sentinel(block.start_time), sentinel(block.end_time))\n",
    "    \n",
    "    torch.save(block.locations, tar_file + '.voxel_locs.pth')\n",
    "    logging.info('Recorded voxel locations')\n",
    "\n",
    "sink.close()"
   ]
  },
  {
   "cell_type": "code",
   "execution_count": null,
   "metadata": {},
   "outputs": [],
   "source": []
  }
 ],
 "metadata": {
  "kernelspec": {
   "display_name": "Python [conda env:HTFATorch] *",
   "language": "python",
   "name": "conda-env-HTFATorch-py"
  },
  "language_info": {
   "codemirror_mode": {
    "name": "ipython",
    "version": 3
   },
   "file_extension": ".py",
   "mimetype": "text/x-python",
   "name": "python",
   "nbconvert_exporter": "python",
   "pygments_lexer": "ipython3",
   "version": "3.7.10"
  }
 },
 "nbformat": 4,
 "nbformat_minor": 4
}
